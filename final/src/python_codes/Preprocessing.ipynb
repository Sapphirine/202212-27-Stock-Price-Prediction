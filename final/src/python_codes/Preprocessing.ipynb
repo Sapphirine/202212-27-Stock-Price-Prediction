{
 "cells": [
  {
   "cell_type": "code",
   "execution_count": 3,
   "id": "69990f09-24f6-460f-b74d-fd5aa37bf1b9",
   "metadata": {},
   "outputs": [],
   "source": [
    "import re\n",
    "import pyspark\n",
    "from pyspark.sql import SparkSession"
   ]
  },
  {
   "cell_type": "code",
   "execution_count": 4,
   "id": "17e849ff-a2d4-4cc5-8c22-f881ba0b8c8e",
   "metadata": {},
   "outputs": [
    {
     "name": "stderr",
     "output_type": "stream",
     "text": "[Stage 1:>                                                          (0 + 1) / 1]\r"
    },
    {
     "name": "stdout",
     "output_type": "stream",
     "text": "+------------------+-------------+\n|               _c0|          _c1|\n+------------------+-------------+\n|          tweet_id|ticker_symbol|\n|550803612197457920|         AAPL|\n|550803610825928706|         AAPL|\n|550803225113157632|         AAPL|\n|550802957370159104|         AAPL|\n|550802855129382912|         AAPL|\n|550802745737768960|         AAPL|\n|550797494188142592|         AAPL|\n|550797275786518528|         AAPL|\n|550797272686923776|         AAPL|\n|550796617444765696|         AAPL|\n|550795512899960832|         AAPL|\n|550795254102638593|         AAPL|\n|550795167318700033|         AAPL|\n|550795088821886976|         AAPL|\n|550793298357391360|         AAPL|\n|550793247669231616|         AAPL|\n|550793108242198528|         AAPL|\n|550791919815892992|         AAPL|\n|550791232738590720|         AAPL|\n+------------------+-------------+\nonly showing top 20 rows\n\n"
    },
    {
     "name": "stderr",
     "output_type": "stream",
     "text": "                                                                                \r"
    }
   ],
   "source": [
    "spark = SparkSession.builder.appName('quiz 2 test').getOrCreate()\n",
    "df = spark.read.csv(\"gs://hw1part1/Company_Tweet.csv\")\n",
    "df.show()"
   ]
  },
  {
   "cell_type": "code",
   "execution_count": 5,
   "id": "55efb3b3-5238-4089-a978-3f15eb377b68",
   "metadata": {},
   "outputs": [
    {
     "name": "stderr",
     "output_type": "stream",
     "text": "[Stage 3:=======================================>                   (2 + 1) / 3]\r"
    },
    {
     "name": "stdout",
     "output_type": "stream",
     "text": "+------------------+----+\n|               _c0| _c1|\n+------------------+----+\n|550444112328261632|MSFT|\n|550455355134578688|MSFT|\n|550455384734183424|MSFT|\n|550466945061908482|MSFT|\n|550468859879505921|MSFT|\n|550474898347290625|MSFT|\n|550475305602007040|MSFT|\n|550479199144669184|MSFT|\n|550493870069678080|MSFT|\n|550503273401417728|MSFT|\n|550505287682383872|MSFT|\n|550559515515842561|MSFT|\n|550568034557911040|MSFT|\n|550608473902575616|MSFT|\n|550614158035910657|MSFT|\n|550615099086360577|MSFT|\n|550617880652685312|MSFT|\n|550622668156710912|MSFT|\n|550633130738978816|MSFT|\n|550635124417523712|MSFT|\n+------------------+----+\nonly showing top 20 rows\n\n"
    },
    {
     "name": "stderr",
     "output_type": "stream",
     "text": "                                                                                \r"
    }
   ],
   "source": [
    "msft_df=df.filter(df['_c1'] ==\"MSFT\")\\\n",
    "\n",
    "msft_df.show()"
   ]
  },
  {
   "cell_type": "code",
   "execution_count": 6,
   "id": "56508efd-628f-4cbe-9e09-463bbd9c1486",
   "metadata": {},
   "outputs": [
    {
     "name": "stdout",
     "output_type": "stream",
     "text": "+------------------+---------------+----------+--------------------+-----------+-----------+--------+\n|               _c0|            _c1|       _c2|                 _c3|        _c4|        _c5|     _c6|\n+------------------+---------------+----------+--------------------+-----------+-----------+--------+\n|          tweet_id|         writer| post_date|                body|comment_num|retweet_num|like_num|\n|550441509175443456|VisualStockRSRC|1420070457|lx21 made $10,008...|          0|          0|       1|\n|550441672312512512|    KeralaGuy77|1420070496|Insanity of today...|          0|          0|       0|\n|550441732014223360|    DozenStocks|1420070510|S&P100 #Stocks Pe...|          0|          0|       0|\n|550442977802207232|   ShowDreamCar|1420070807|$GM $TSLA: Volksw...|          0|          0|       1|\n|550443807834402816|   i_Know_First|1420071005|Swing Trading: Up...|          0|          0|       1|\n|550443808606126081|  aaplstocknews|1420071005|Swing Trading: Up...|          0|          0|       1|\n|550443809700851716|     iknowfirst|1420071005|Swing Trading: Up...|          0|          0|       1|\n|550443857142611968|    Cprediction|1420071016|Swing Trading: Up...|          0|          0|       1|\n|550443857595600896|  iknowfirst_br|1420071017|Swing Trading: Up...|          0|          0|       1|\n|550443857692078081|Gold_prediction|1420071017|Swing Trading: Up...|          0|          0|       1|\n|550443858010861568|    IKFResearch|1420071017|Swing Trading: Up...|          0|          0|       1|\n|550444112328261632|         GetAOM|1420071077|$UNP $ORCL $QCOM ...|          0|          0|       0|\n|550444969924653056|  AppleNewsAAPL|1420071282|$AAPL Apple goes ...|          0|          0|       1|\n|550444970738335744|   espositooooo|1420071282|“@WSJ: Apple is b...|          0|          0|       0|\n|550445066444369921|     Bidnessetc|1420071305|Apple filed for i...|          0|          0|       0|\n|550445850170642432| JorelLaraKalel|1420071492|@CNBC 15 Top #tra...|          0|          0|       2|\n|550447574285418497|      btcgemini|1420071903|We searched throu...|          0|          0|       0|\n|550447850857828352| JorelLaraKalel|1420071969|Top 10 searched #...|          0|          0|       2|\n|550447998577426433|   UPBOptionMil|1420072004|2014 The Year in ...|          0|          2|       2|\n+------------------+---------------+----------+--------------------+-----------+-----------+--------+\nonly showing top 20 rows\n\n"
    }
   ],
   "source": [
    "all_tweets = spark.read.csv(\"gs://hw1part1/Tweet.csv\")\n",
    "all_tweets.show()"
   ]
  },
  {
   "cell_type": "code",
   "execution_count": 7,
   "id": "6aee8408-3958-4ac8-8093-6e406e26b880",
   "metadata": {},
   "outputs": [
    {
     "name": "stderr",
     "output_type": "stream",
     "text": "[Stage 7:===============================================>           (4 + 1) / 5]\r"
    },
    {
     "name": "stdout",
     "output_type": "stream",
     "text": "+------------------+----+---------------+----------+--------------------+---+---+---+\n|               _c0| _c1|            _c1|       _c2|                 _c3|_c4|_c5|_c6|\n+------------------+----+---------------+----------+--------------------+---+---+---+\n|552997279448449025|MSFT|Market_Screener|1420679800|\"#Microsoft : \"\"T...|  0|  0|  0|\n|554916533923627008|MSFT| Top_Dow_Stocks|1421137386|#Dow #stocks $MSF...|  0|  0|  0|\n|557284144187965441|MSFT|Market_Screener|1421701868|#Microsoft : Syne...|  0|  0|  0|\n|557923770032476160|MSFT|  OptionsAction|1421854367|How to make a 6% ...|  0|  0|  0|\n|557945235188502530|MSFT|   ScottMAustin|1421859484|Get your #Windows...|  0|  1|  1|\n|558023084540985344|MSFT|     galenmoore|1421878045|Almost certain th...|  0|  0|  1|\n|559133296945545216|MSFT|    stockwire24|1422142740|Microsoft Corpora...|  0|  0|  0|\n|559308576226029568|MSFT|       finsents|1422184530|$MSFT:US Quinn: A...|  0|  0|  0|\n|559551654953897985|MSFT|        nufelis|1422242485|RT @VideoGameFem ...|  0|  0|  0|\n|559803719802310656|MSFT|    Briefingcom|1422302582|January #earnings...|  0|  0|  1|\n|559828973463433219|MSFT|    MCarrilloFX|1422308603|US stocks positiv...|  0|  0|  0|\n|560084746722902016|MSFT| parklandtrader|1422369584|@jimcramer @Scott...|  0|  0|  0|\n|560107964363587584|MSFT|      dodegaard|1422375119|Just saw the $MSF...|  0|  0|  0|\n|560112759288119296|MSFT|      fintechna|1422376262|RT APadvisorhub: ...|  0|  0|  0|\n|560146093560721408|MSFT|TV_TradingIdeas|1422384210|will be looking f...|  0|  0|  0|\n|560150633278619648|MSFT|      am_alerts|1422385292|$MSFT, Active, +1...|  0|  0|  0|\n|560159741343969280|MSFT|    AAPL_scalps|1422387464|              $msft |  0|  0|  0|\n|560165714607484929|MSFT|      am_alerts|1422388888|$MSFT, Active, +6...|  0|  0|  0|\n|560422607351459840|MSFT|   Stockaholics|1422450136|Our Penny Stock A...|  0|  0|  0|\n|560472497217634304|MSFT|   firstadopter|1422462031|It's mind-bogglin...|  3|  1|  1|\n+------------------+----+---------------+----------+--------------------+---+---+---+\nonly showing top 20 rows\n\n"
    },
    {
     "name": "stderr",
     "output_type": "stream",
     "text": "                                                                                \r"
    }
   ],
   "source": [
    "msft_tweets=msft_df.join(all_tweets,\"_c0\")\n",
    "msft_tweets.show()"
   ]
  },
  {
   "cell_type": "code",
   "execution_count": 8,
   "id": "8e25be9c-5c13-496e-8cc1-06584c1f829c",
   "metadata": {},
   "outputs": [
    {
     "name": "stderr",
     "output_type": "stream",
     "text": "[Stage 13:==============================================>           (4 + 1) / 5]\r"
    },
    {
     "name": "stdout",
     "output_type": "stream",
     "text": "+----------+--------------------+\n|       _c2|                 _c3|\n+----------+--------------------+\n|1420679800|\"#Microsoft : \"\"T...|\n|1421137386|#Dow #stocks $MSF...|\n|1421701868|#Microsoft : Syne...|\n|1421854367|How to make a 6% ...|\n|1421859484|Get your #Windows...|\n|1421878045|Almost certain th...|\n|1422142740|Microsoft Corpora...|\n|1422184530|$MSFT:US Quinn: A...|\n|1422242485|RT @VideoGameFem ...|\n|1422302582|January #earnings...|\n|1422308603|US stocks positiv...|\n|1422369584|@jimcramer @Scott...|\n|1422375119|Just saw the $MSF...|\n|1422376262|RT APadvisorhub: ...|\n|1422384210|will be looking f...|\n|1422385292|$MSFT, Active, +1...|\n|1422387464|              $msft |\n|1422388888|$MSFT, Active, +6...|\n|1422450136|Our Penny Stock A...|\n|1422462031|It's mind-bogglin...|\n+----------+--------------------+\nonly showing top 20 rows\n\n"
    },
    {
     "name": "stderr",
     "output_type": "stream",
     "text": "                                                                                \r"
    }
   ],
   "source": [
    "simplified_msft=msft_tweets[\"_c2\",\"_c3\"]\n",
    "simplified_msft.show()"
   ]
  },
  {
   "cell_type": "code",
   "execution_count": 9,
   "id": "94fc7c1a-4d59-438b-95a6-ab0bcec5b999",
   "metadata": {},
   "outputs": [
    {
     "name": "stderr",
     "output_type": "stream",
     "text": "[Stage 19:==============================================>           (4 + 1) / 5]\r"
    },
    {
     "name": "stdout",
     "output_type": "stream",
     "text": "+----------+--------------------+\n|      Time|               Tweet|\n+----------+--------------------+\n|1420679800|\"#Microsoft : \"\"T...|\n|1421137386|#Dow #stocks $MSF...|\n|1421701868|#Microsoft : Syne...|\n|1421854367|How to make a 6% ...|\n|1421859484|Get your #Windows...|\n|1421878045|Almost certain th...|\n|1422142740|Microsoft Corpora...|\n|1422184530|$MSFT:US Quinn: A...|\n|1422242485|RT @VideoGameFem ...|\n|1422302582|January #earnings...|\n|1422308603|US stocks positiv...|\n|1422369584|@jimcramer @Scott...|\n|1422375119|Just saw the $MSF...|\n|1422376262|RT APadvisorhub: ...|\n|1422384210|will be looking f...|\n|1422385292|$MSFT, Active, +1...|\n|1422387464|              $msft |\n|1422388888|$MSFT, Active, +6...|\n|1422450136|Our Penny Stock A...|\n|1422462031|It's mind-bogglin...|\n+----------+--------------------+\nonly showing top 20 rows\n\n"
    },
    {
     "name": "stderr",
     "output_type": "stream",
     "text": "                                                                                \r"
    }
   ],
   "source": [
    "real=simplified_msft.withColumnRenamed(\"_c2\",\"Time\")\\\n",
    ".withColumnRenamed(\"_c3\",\"Tweet\")\n",
    "\n",
    "real.show()"
   ]
  },
  {
   "cell_type": "code",
   "execution_count": 10,
   "id": "633c58dc-d7e2-4dee-8530-9dbd94fbd608",
   "metadata": {},
   "outputs": [
    {
     "name": "stderr",
     "output_type": "stream",
     "text": "[Stage 25:==============================================>           (4 + 1) / 5]\r"
    },
    {
     "name": "stdout",
     "output_type": "stream",
     "text": "+----------+--------------------+-----+\n|      Time|               Tweet|epoch|\n+----------+--------------------+-----+\n|1420679800|\"#Microsoft : \"\"T...| null|\n|1421137386|#Dow #stocks $MSF...| null|\n|1421701868|#Microsoft : Syne...| null|\n|1421854367|How to make a 6% ...| null|\n|1421859484|Get your #Windows...| null|\n|1421878045|Almost certain th...| null|\n|1422142740|Microsoft Corpora...| null|\n|1422184530|$MSFT:US Quinn: A...| null|\n|1422242485|RT @VideoGameFem ...| null|\n|1422302582|January #earnings...| null|\n|1422308603|US stocks positiv...| null|\n|1422369584|@jimcramer @Scott...| null|\n|1422375119|Just saw the $MSF...| null|\n|1422376262|RT APadvisorhub: ...| null|\n|1422384210|will be looking f...| null|\n|1422385292|$MSFT, Active, +1...| null|\n|1422387464|              $msft | null|\n|1422388888|$MSFT, Active, +6...| null|\n|1422450136|Our Penny Stock A...| null|\n|1422462031|It's mind-bogglin...| null|\n+----------+--------------------+-----+\nonly showing top 20 rows\n\n"
    },
    {
     "name": "stderr",
     "output_type": "stream",
     "text": "                                                                                \r"
    }
   ],
   "source": [
    "from pyspark.sql import functions as f\n",
    "from pyspark.sql import types as t\n",
    "real_updated=real.withColumn('epoch', f.date_format(real.Time.cast(dataType=t.TimestampType()), \"yyyy-MM-dd\"))\n",
    "real_updated.show()"
   ]
  },
  {
   "cell_type": "code",
   "execution_count": 11,
   "id": "b6d1711c-1147-4bfc-a307-6b952e9a5f9b",
   "metadata": {},
   "outputs": [
    {
     "data": {
      "text/plain": "StructType(List(StructField(Time,StringType,true),StructField(Tweet,StringType,true)))"
     },
     "execution_count": 11,
     "metadata": {},
     "output_type": "execute_result"
    }
   ],
   "source": [
    "real.schema"
   ]
  },
  {
   "cell_type": "code",
   "execution_count": 12,
   "id": "f4249f29-8366-4f1f-9ec5-a3967437bb81",
   "metadata": {},
   "outputs": [
    {
     "name": "stderr",
     "output_type": "stream",
     "text": "[Stage 31:==============================================>           (4 + 1) / 5]\r"
    },
    {
     "name": "stdout",
     "output_type": "stream",
     "text": "+----------+--------------------+----------+\n|      Time|               Tweet|     epoch|\n+----------+--------------------+----------+\n|1420679800|\"#Microsoft : \"\"T...|1420679800|\n|1421137386|#Dow #stocks $MSF...|1421137386|\n|1421701868|#Microsoft : Syne...|1421701868|\n|1421854367|How to make a 6% ...|1421854367|\n|1421859484|Get your #Windows...|1421859484|\n|1421878045|Almost certain th...|1421878045|\n|1422142740|Microsoft Corpora...|1422142740|\n|1422184530|$MSFT:US Quinn: A...|1422184530|\n|1422242485|RT @VideoGameFem ...|1422242485|\n|1422302582|January #earnings...|1422302582|\n|1422308603|US stocks positiv...|1422308603|\n|1422369584|@jimcramer @Scott...|1422369584|\n|1422375119|Just saw the $MSF...|1422375119|\n|1422376262|RT APadvisorhub: ...|1422376262|\n|1422384210|will be looking f...|1422384210|\n|1422385292|$MSFT, Active, +1...|1422385292|\n|1422387464|              $msft |1422387464|\n|1422388888|$MSFT, Active, +6...|1422388888|\n|1422450136|Our Penny Stock A...|1422450136|\n|1422462031|It's mind-bogglin...|1422462031|\n+----------+--------------------+----------+\nonly showing top 20 rows\n\n"
    },
    {
     "name": "stderr",
     "output_type": "stream",
     "text": "                                                                                \r"
    }
   ],
   "source": [
    "real_updated=real.withColumn('epoch', real.Time.cast(\"int\"))\n",
    "real_updated.show()"
   ]
  },
  {
   "cell_type": "code",
   "execution_count": 13,
   "id": "a63aa08b-265a-4207-be5a-2c8caaf28bab",
   "metadata": {},
   "outputs": [
    {
     "name": "stderr",
     "output_type": "stream",
     "text": "[Stage 37:==============================================>           (4 + 1) / 5]\r"
    },
    {
     "name": "stdout",
     "output_type": "stream",
     "text": "+----------+--------------------+----------+\n|      Time|               Tweet|     epoch|\n+----------+--------------------+----------+\n|1420679800|\"#Microsoft : \"\"T...|2015-01-08|\n|1421137386|#Dow #stocks $MSF...|2015-01-13|\n|1421701868|#Microsoft : Syne...|2015-01-19|\n|1421854367|How to make a 6% ...|2015-01-21|\n|1421859484|Get your #Windows...|2015-01-21|\n|1421878045|Almost certain th...|2015-01-21|\n|1422142740|Microsoft Corpora...|2015-01-24|\n|1422184530|$MSFT:US Quinn: A...|2015-01-25|\n|1422242485|RT @VideoGameFem ...|2015-01-26|\n|1422302582|January #earnings...|2015-01-26|\n|1422308603|US stocks positiv...|2015-01-26|\n|1422369584|@jimcramer @Scott...|2015-01-27|\n|1422375119|Just saw the $MSF...|2015-01-27|\n|1422376262|RT APadvisorhub: ...|2015-01-27|\n|1422384210|will be looking f...|2015-01-27|\n|1422385292|$MSFT, Active, +1...|2015-01-27|\n|1422387464|              $msft |2015-01-27|\n|1422388888|$MSFT, Active, +6...|2015-01-27|\n|1422450136|Our Penny Stock A...|2015-01-28|\n|1422462031|It's mind-bogglin...|2015-01-28|\n+----------+--------------------+----------+\nonly showing top 20 rows\n\n"
    },
    {
     "name": "stderr",
     "output_type": "stream",
     "text": "                                                                                \r"
    }
   ],
   "source": [
    "from pyspark.sql import functions as f\n",
    "from pyspark.sql import types as t\n",
    "real2=real_updated.withColumn('epoch', f.date_format(real_updated.epoch.cast(dataType=t.TimestampType()), \"yyyy-MM-dd\"))\n",
    "real2.show()"
   ]
  },
  {
   "cell_type": "code",
   "execution_count": 14,
   "id": "52070d6a-d3da-45a7-b97f-a75d120bcd17",
   "metadata": {},
   "outputs": [
    {
     "name": "stderr",
     "output_type": "stream",
     "text": "[Stage 43:==============================================>           (4 + 1) / 5]\r"
    },
    {
     "name": "stdout",
     "output_type": "stream",
     "text": "+----------+--------------------+\n|     epoch|               Tweet|\n+----------+--------------------+\n|2015-01-08|\"#Microsoft : \"\"T...|\n|2015-01-13|#Dow #stocks $MSF...|\n|2015-01-19|#Microsoft : Syne...|\n|2015-01-21|How to make a 6% ...|\n|2015-01-21|Get your #Windows...|\n|2015-01-21|Almost certain th...|\n|2015-01-24|Microsoft Corpora...|\n|2015-01-25|$MSFT:US Quinn: A...|\n|2015-01-26|RT @VideoGameFem ...|\n|2015-01-26|January #earnings...|\n|2015-01-26|US stocks positiv...|\n|2015-01-27|@jimcramer @Scott...|\n|2015-01-27|Just saw the $MSF...|\n|2015-01-27|RT APadvisorhub: ...|\n|2015-01-27|will be looking f...|\n|2015-01-27|$MSFT, Active, +1...|\n|2015-01-27|              $msft |\n|2015-01-27|$MSFT, Active, +6...|\n|2015-01-28|Our Penny Stock A...|\n|2015-01-28|It's mind-bogglin...|\n+----------+--------------------+\nonly showing top 20 rows\n\n"
    },
    {
     "name": "stderr",
     "output_type": "stream",
     "text": "                                                                                \r"
    }
   ],
   "source": [
    "real3=real2[\"epoch\",\"Tweet\"]\n",
    "real3.show()"
   ]
  },
  {
   "cell_type": "code",
   "execution_count": 15,
   "id": "ccff47b8-7d3c-427b-903e-aff3ab083b68",
   "metadata": {},
   "outputs": [
    {
     "name": "stderr",
     "output_type": "stream",
     "text": "[Stage 49:==============================================>           (4 + 1) / 5]\r"
    },
    {
     "name": "stdout",
     "output_type": "stream",
     "text": "+----------+--------------------+\n|      Date|               Tweet|\n+----------+--------------------+\n|2015-01-08|\"#Microsoft : \"\"T...|\n|2015-01-13|#Dow #stocks $MSF...|\n|2015-01-19|#Microsoft : Syne...|\n|2015-01-21|How to make a 6% ...|\n|2015-01-21|Get your #Windows...|\n|2015-01-21|Almost certain th...|\n|2015-01-24|Microsoft Corpora...|\n|2015-01-25|$MSFT:US Quinn: A...|\n|2015-01-26|RT @VideoGameFem ...|\n|2015-01-26|January #earnings...|\n|2015-01-26|US stocks positiv...|\n|2015-01-27|@jimcramer @Scott...|\n|2015-01-27|Just saw the $MSF...|\n|2015-01-27|RT APadvisorhub: ...|\n|2015-01-27|will be looking f...|\n|2015-01-27|$MSFT, Active, +1...|\n|2015-01-27|              $msft |\n|2015-01-27|$MSFT, Active, +6...|\n|2015-01-28|Our Penny Stock A...|\n|2015-01-28|It's mind-bogglin...|\n+----------+--------------------+\nonly showing top 20 rows\n\n"
    },
    {
     "name": "stderr",
     "output_type": "stream",
     "text": "                                                                                \r"
    }
   ],
   "source": [
    "msft=real3.withColumnRenamed(\"epoch\",\"Date\")\n",
    "\n",
    "msft.show()"
   ]
  },
  {
   "cell_type": "code",
   "execution_count": 16,
   "id": "2e5f0453-56c2-4d24-a988-d0854e5acc58",
   "metadata": {},
   "outputs": [
    {
     "name": "stderr",
     "output_type": "stream",
     "text": "                                                                                \r"
    }
   ],
   "source": [
    "msft.write.option(\"header\",True) \\\n",
    " .csv(\"gs://hw1part1/MSFT_Tweets.csv\")"
   ]
  },
  {
   "cell_type": "code",
   "execution_count": 17,
   "id": "02753ab2-be2e-4564-90d2-e88a6c26c1f2",
   "metadata": {},
   "outputs": [
    {
     "name": "stderr",
     "output_type": "stream",
     "text": "                                                                                \r"
    },
    {
     "name": "stdout",
     "output_type": "stream",
     "text": "+-------------+----------+-----------+--------+----------+----------+---------+\n|          _c0|       _c1|        _c2|     _c3|       _c4|       _c5|      _c6|\n+-------------+----------+-----------+--------+----------+----------+---------+\n|ticker_symbol|  day_date|close_value|  volume|open_value|high_value|low_value|\n|         AAPL|2020-05-29|     317.94|38399530|    319.25|    321.15|   316.47|\n|         AAPL|2020-05-28|     318.25|33449100|    316.77|    323.44|   315.63|\n|         AAPL|2020-05-27|     318.11|28236270|    316.14|    318.71|   313.09|\n|         AAPL|2020-05-26|     316.73|31380450|     323.5|    324.24|    316.5|\n|         AAPL|2020-05-22|     318.89|20450750|    315.77|    319.23|   315.35|\n|         AAPL|2020-05-21|     316.85|25672210|    318.66|    320.89|   315.87|\n|         AAPL|2020-05-20|     319.23|27876220|    316.68|    319.52|    316.2|\n|         AAPL|2020-05-19|     313.14|25432390|    315.03|    318.52|   313.01|\n|         AAPL|2020-05-18|     314.96|33843130|    313.17|     316.5| 310.3241|\n|         AAPL|2020-05-15|     307.71|41587090|    300.35|     307.9|   300.21|\n|         AAPL|2020-05-14|     309.54|39732270|    304.51|    309.79|   301.53|\n|         AAPL|2020-05-13|     307.65|50155640|    312.15|    315.95|   303.21|\n|         AAPL|2020-05-12|     311.41|40575260|    317.83|   319.688|   310.91|\n|         AAPL|2020-05-11|     315.01|36486560|     308.1|    317.05|   307.24|\n|         AAPL|2020-05-08|     310.13|33511990|    305.64|    310.35|   304.29|\n|         AAPL|2020-05-07|     303.74|28803760|    303.22|    305.17|   301.97|\n|         AAPL|2020-05-06|     300.63|35583440|    300.46|    303.24|   298.87|\n|         AAPL|2020-05-05|     297.56|36937800|    295.06|     301.0|   294.46|\n|         AAPL|2020-05-04|     293.16|33391990|    289.17|    293.69| 286.3172|\n+-------------+----------+-----------+--------+----------+----------+---------+\nonly showing top 20 rows\n\n"
    }
   ],
   "source": [
    "company_prices = spark.read.csv(\"gs://hw1part1/CompanyValues.csv\")\n",
    "company_prices.show()"
   ]
  },
  {
   "cell_type": "code",
   "execution_count": 18,
   "id": "f9bec912-929b-42ef-b262-b74d3e541ca6",
   "metadata": {},
   "outputs": [
    {
     "name": "stdout",
     "output_type": "stream",
     "text": "+----+----------+------+--------+------+--------+--------+\n| _c0|       _c1|   _c2|     _c3|   _c4|     _c5|     _c6|\n+----+----------+------+--------+------+--------+--------+\n|MSFT|2020-05-29|183.25|42146720|182.73|  184.27|  180.41|\n|MSFT|2020-05-28| 181.4|33831820|180.74|184.1474|  180.38|\n|MSFT|2020-05-27|181.81|39517150| 180.2|181.9877|   176.6|\n|MSFT|2020-05-26|181.57|36073610|186.34|   186.5|   181.1|\n|MSFT|2020-05-22|183.51|20826900|183.19|  184.46|  182.54|\n|MSFT|2020-05-21|183.43|29119510| 185.4|  186.67|  183.29|\n|MSFT|2020-05-20|185.66|31261330|184.81|  185.85|  183.94|\n|MSFT|2020-05-19|183.63|26799120|185.03|   186.6|  183.49|\n|MSFT|2020-05-18|184.91|35306620|185.75|   186.2|  183.96|\n|MSFT|2020-05-15|183.16|46610380|179.06|  187.06|   177.0|\n|MSFT|2020-05-14|180.53|41873910|177.54|  180.69|  175.68|\n|MSFT|2020-05-13|179.75|44711490|182.55|  184.05|  176.54|\n|MSFT|2020-05-12|182.51|32038200| 186.8|  187.04|   182.3|\n|MSFT|2020-05-11|186.74|30892660|183.15|  187.51|  182.85|\n|MSFT|2020-05-08|184.68|30912640|184.98|   185.0|  183.36|\n|MSFT|2020-05-07| 183.6|28315990|184.17|  184.55|  182.58|\n|MSFT|2020-05-06|182.54|32139300|182.08|   184.2|181.6306|\n|MSFT|2020-05-05|180.76|36839170|180.62|  183.65|   179.9|\n|MSFT|2020-05-04|178.84|30372860|174.49|   179.0|   173.8|\n|MSFT|2020-05-01|174.57|39370470| 175.8|  178.64|  174.01|\n+----+----------+------+--------+------+--------+--------+\nonly showing top 20 rows\n\n"
    },
    {
     "name": "stderr",
     "output_type": "stream",
     "text": "                                                                                \r"
    }
   ],
   "source": [
    "msft_prices=company_prices.filter(company_prices['_c0'] ==\"MSFT\")\\\n",
    "\n",
    "msft_prices.show()"
   ]
  },
  {
   "cell_type": "code",
   "execution_count": 19,
   "id": "671b4030-c81f-4629-8244-ef523c336bcc",
   "metadata": {},
   "outputs": [
    {
     "name": "stdout",
     "output_type": "stream",
     "text": "+----------+------+\n|       _c1|   _c2|\n+----------+------+\n|2020-05-29|183.25|\n|2020-05-28| 181.4|\n|2020-05-27|181.81|\n|2020-05-26|181.57|\n|2020-05-22|183.51|\n|2020-05-21|183.43|\n|2020-05-20|185.66|\n|2020-05-19|183.63|\n|2020-05-18|184.91|\n|2020-05-15|183.16|\n|2020-05-14|180.53|\n|2020-05-13|179.75|\n|2020-05-12|182.51|\n|2020-05-11|186.74|\n|2020-05-08|184.68|\n|2020-05-07| 183.6|\n|2020-05-06|182.54|\n|2020-05-05|180.76|\n|2020-05-04|178.84|\n|2020-05-01|174.57|\n+----------+------+\nonly showing top 20 rows\n\n"
    }
   ],
   "source": [
    "price=msft_prices[\"_c1\",\"_c2\"]\n",
    "price.show()"
   ]
  },
  {
   "cell_type": "code",
   "execution_count": 25,
   "id": "822d4ad6-76c7-45c6-9db2-f22c63e1546c",
   "metadata": {},
   "outputs": [
    {
     "name": "stdout",
     "output_type": "stream",
     "text": "+----------+------+\n|     Date1| Close|\n+----------+------+\n|2020-05-29|183.25|\n|2020-05-28| 181.4|\n|2020-05-27|181.81|\n|2020-05-26|181.57|\n|2020-05-22|183.51|\n|2020-05-21|183.43|\n|2020-05-20|185.66|\n|2020-05-19|183.63|\n|2020-05-18|184.91|\n|2020-05-15|183.16|\n|2020-05-14|180.53|\n|2020-05-13|179.75|\n|2020-05-12|182.51|\n|2020-05-11|186.74|\n|2020-05-08|184.68|\n|2020-05-07| 183.6|\n|2020-05-06|182.54|\n|2020-05-05|180.76|\n|2020-05-04|178.84|\n|2020-05-01|174.57|\n+----------+------+\nonly showing top 20 rows\n\n"
    }
   ],
   "source": [
    "real_price=price.withColumnRenamed(\"_c1\",\"Date1\")\\\n",
    ".withColumnRenamed(\"_c2\",\"Close\")\n",
    "\n",
    "real_price.show()"
   ]
  },
  {
   "cell_type": "code",
   "execution_count": 26,
   "id": "3717b299-9654-4733-889e-87f331b2edf3",
   "metadata": {},
   "outputs": [
    {
     "name": "stderr",
     "output_type": "stream",
     "text": "[Stage 74:==============================================>           (4 + 1) / 5]\r"
    },
    {
     "name": "stdout",
     "output_type": "stream",
     "text": "+----------+---------------------------------------------------------------------------------------------------------------------------------------------------------------------------------------------------------------------------------------------------------+----------+------+\n|Date      |Tweet                                                                                                                                                                                                                                                    |Date1     |Close |\n+----------+---------------------------------------------------------------------------------------------------------------------------------------------------------------------------------------------------------------------------------------------------------+----------+------+\n|2015-01-08|\"#Microsoft : \"\"Transparent Failover\"\" in Patent Application Approval Process http://4-traders.com/MICROSOFT-CORPORATION-4835/news/Microsoft--Transparent-Failover-in-Patent-Application-Approval-Process-19630784/… $MSFT\"                              |2015-01-08|47.59 |\n|2015-01-13|#Dow #stocks $MSFT Microsoft  Daily:-1.25% Weekly:0.59% YTD:0.32% Trend:15 / 100  http://12Stocks.com/MSFT                                                                                                                                               |2015-01-13|46.355|\n|2015-01-19|#Microsoft : Synect Create World's Largest Photo Booth, Release Video of Micro... http://4-traders.com/MICROSOFT-CORPORATION-4835/news/Microsoft--Synect-Create-Worlds-Largest-Photo-Booth-Release-Video-of-Microsoft-Store-Installation-19731259/… $MSFT|2015-01-19|46.24 |\n|2015-01-21|How to make a 6% yield with Microsoft shares http://cnb.cx/1E25sbe $MSFT                                                                                                                                                                                 |2015-01-21|45.92 |\n|2015-01-21|Get your #Windows10 fix here with @JoannaStern and @ShiraOvide live at Microsoft's headquarters. http://blogs.wsj.com/digits/2015/01/21/microsofts-shows-off-more-of-windows-10-live-blog… $MSFT                                                         |2015-01-21|45.92 |\n|2015-01-21|Almost certain the Windows 10 media briefing was actually inspired by an 1980s workout video. http://dcinno.streetwise.co/2015/01/21/microsofts-windows-10-announcement-event-stage-design-was-weird/… $MSFT via @bing_chris                             |2015-01-21|45.92 |\n|2015-01-24|Microsoft Corporation Works With NASA for OnSight System [Video] $MSFT http://bit.ly/1z5Mr6t                                                                                                                                                             |2015-01-24|47.18 |\n|2015-01-25|$MSFT:US Quinn: An invigorated Microsoft could make Silicon Valley better #MICROSOFT CORP  http://tinyurl.com/kbok9f3 #DJ30                                                                                                                              |2015-01-25|47.18 |\n|2015-01-26|RT @VideoGameFem $MSFT New post: Microsoft's Xbox One Makes a Comeback http://bit.ly/1zLCSJL                                                                                                                                                             |2015-01-26|47.01 |\n|2015-01-26|January #earnings conference calls/webcasts http://bit.ly/1zQTnmc $MSFT $TXN $NVS $COH $MMM $T $AAPL $AMGN $EA $YHOO                                                                                                                                     |2015-01-26|47.01 |\n|2015-01-26|US stocks positive; Dow at break event; $UTX mixed report; $MSFT beats revenues; $RMBS launched 20M shares buyback http://fxstreet.com/news/forex-news/article.aspx?storyid=a4566732-a934-4baf-8f47-73329709ef67…                                        |2015-01-26|47.01 |\n|2015-01-27|@jimcramer @ScottWapnerCNBC @SquawkStreet @carlquintanilla Everyone is too long $MSFT.. Look at oil names Rally! $LINE! $CVX $TSLA!                                                                                                                      |2015-01-27|42.66 |\n|2015-01-27|Just saw the $MSFT quote.  Should have dumped them all a week ago. So much for listening to my inner Warren Buffett.                                                                                                                                     |2015-01-27|42.66 |\n|2015-01-27|RT APadvisorhub: Microsoft $MSFT shares fell 10 percent after reporting that sales slumped in China and Japan #F... http://ift.tt/1H6rBYq;                                                                                                               |2015-01-27|42.66 |\n|2015-01-27|will be looking for trade tomorrow and maybe a swing $MSFT http://tradingview.com/v/LeGwN8sw/                                                                                                                                                            |2015-01-27|42.66 |\n|2015-01-27|$MSFT, Active, +11.53, 1H, 2:00 PM EST, 27 Jan, #NASDAQ $DJI $NDX $SPY                                                                                                                                                                                   |2015-01-27|42.66 |\n|2015-01-27|$msft                                                                                                                                                                                                                                                    |2015-01-27|42.66 |\n|2015-01-27|$MSFT, Active, +6.9, 1H, 3:00 PM EST, 27 Jan, #NASDAQ $DJI $NDX $SPY                                                                                                                                                                                     |2015-01-27|42.66 |\n|2015-01-28|Our Penny Stock Alert On $QLTS Has Gained 34.62% In The Past 2 Days! Special Update: http://tinyurl.com/m64yz4f $NTEK $MSFT $MWIP                                                                                                                        |2015-01-28|41.19 |\n|2015-01-28|It's mind-boggling that $AAPL isn't in the Dow Jones average yet with $CSCO $INTC $MSFT and $IBM in there ->                                                                                                                                             |2015-01-28|41.19 |\n+----------+---------------------------------------------------------------------------------------------------------------------------------------------------------------------------------------------------------------------------------------------------------+----------+------+\nonly showing top 20 rows\n\n"
    },
    {
     "name": "stderr",
     "output_type": "stream",
     "text": "                                                                                \r"
    }
   ],
   "source": [
    "combined=msft.join(real_price,msft.Date ==  real_price.Date1,\"left\")\n",
    "combined.show(truncate=False)"
   ]
  },
  {
   "cell_type": "code",
   "execution_count": 29,
   "id": "a3ac057c-a870-4706-9b7b-3927838353c7",
   "metadata": {},
   "outputs": [
    {
     "name": "stderr",
     "output_type": "stream",
     "text": "[Stage 81:==============================================>           (4 + 1) / 5]\r"
    },
    {
     "name": "stdout",
     "output_type": "stream",
     "text": "+----------+--------------------+------+\n|      Date|               Tweet| Close|\n+----------+--------------------+------+\n|2015-01-08|\"#Microsoft : \"\"T...| 47.59|\n|2015-01-13|#Dow #stocks $MSF...|46.355|\n|2015-01-19|#Microsoft : Syne...| 46.24|\n|2015-01-21|How to make a 6% ...| 45.92|\n|2015-01-21|Get your #Windows...| 45.92|\n|2015-01-21|Almost certain th...| 45.92|\n|2015-01-24|Microsoft Corpora...| 47.18|\n|2015-01-25|$MSFT:US Quinn: A...| 47.18|\n|2015-01-26|RT @VideoGameFem ...| 47.01|\n|2015-01-26|January #earnings...| 47.01|\n|2015-01-26|US stocks positiv...| 47.01|\n|2015-01-27|@jimcramer @Scott...| 42.66|\n|2015-01-27|Just saw the $MSF...| 42.66|\n|2015-01-27|RT APadvisorhub: ...| 42.66|\n|2015-01-27|will be looking f...| 42.66|\n|2015-01-27|$MSFT, Active, +1...| 42.66|\n|2015-01-27|              $msft | 42.66|\n|2015-01-27|$MSFT, Active, +6...| 42.66|\n|2015-01-28|Our Penny Stock A...| 41.19|\n|2015-01-28|It's mind-bogglin...| 41.19|\n+----------+--------------------+------+\nonly showing top 20 rows\n\n"
    },
    {
     "name": "stderr",
     "output_type": "stream",
     "text": "                                                                                \r"
    }
   ],
   "source": [
    "final_combined=combined[\"Date\",\"Tweet\",\"Close\"]\n",
    "final_combined.show()"
   ]
  },
  {
   "cell_type": "code",
   "execution_count": 30,
   "id": "62d5fe2f-2ccb-4c0b-8736-d996283cc2b8",
   "metadata": {},
   "outputs": [
    {
     "data": {
      "text/plain": "DataFrame[Date: string, Tweet: string, Close: string]"
     },
     "execution_count": 30,
     "metadata": {},
     "output_type": "execute_result"
    }
   ],
   "source": [
    "final_combined"
   ]
  },
  {
   "cell_type": "code",
   "execution_count": 31,
   "id": "0617c074-2590-477e-9898-e5b644e73ec3",
   "metadata": {},
   "outputs": [
    {
     "name": "stderr",
     "output_type": "stream",
     "text": "                                                                                \r"
    }
   ],
   "source": []
  },
  {
   "cell_type": "code",
   "execution_count": 45,
   "id": "f4257a87-f2fd-47d4-b7b8-ba25d097f498",
   "metadata": {},
   "outputs": [
    {
     "name": "stderr",
     "output_type": "stream",
     "text": "                                                                                \r"
    }
   ],
   "source": [
    "ccdata = final_combined\n",
    "if(ccdata.collect()[0][2] == \"\"):\n",
    "    j=0\n",
    "    while (ccdata.collect()[j][2]==\"\"):\n",
    "        j += 1\n",
    "    ccdata.collect()[0][2] = ccdata.collect()[j][2]\n",
    "\n",
    "for i in range(1,len(ccdata.columns)):\n",
    "    if(ccdata.collect()[i][2] == \"\"):\n",
    "        ccdata.Ccollect()[i][2] = ccdata.collect()[i-1][2]"
   ]
  },
  {
   "cell_type": "code",
   "execution_count": 52,
   "id": "0c40ef15-5bb4-4898-adf1-063c24bf2aa0",
   "metadata": {},
   "outputs": [
    {
     "name": "stderr",
     "output_type": "stream",
     "text": "                                                                                \r"
    }
   ],
   "source": [
    "real_price.write.option(\"header\",True) \\\n",
    " .csv(\"gs://hw1part1/MSFT_price.csv\")"
   ]
  },
  {
   "cell_type": "code",
   "execution_count": null,
   "id": "de52090d-4c05-4a93-a1f3-c650955809c8",
   "metadata": {},
   "outputs": [],
   "source": []
  }
 ],
 "metadata": {
  "kernelspec": {
   "display_name": "PySpark",
   "language": "python",
   "name": "pyspark"
  },
  "language_info": {
   "codemirror_mode": {
    "name": "ipython",
    "version": 3
   },
   "file_extension": ".py",
   "mimetype": "text/x-python",
   "name": "python",
   "nbconvert_exporter": "python",
   "pygments_lexer": "ipython3",
   "version": "3.8.15"
  }
 },
 "nbformat": 4,
 "nbformat_minor": 5
}
